{
 "cells": [
  {
   "cell_type": "code",
   "execution_count": null,
   "id": "395cf2b1-d160-4275-b0e1-f74026ddb428",
   "metadata": {},
   "outputs": [],
   "source": [
    "from IPython.display import Image\n",
    "\n",
    "# Specify the path to your image file\n",
    "image_path = 'C:\\\\Users\\\\sucit\\\\OneDrive\\\\Documents\\\\Repositories\\\\ECE_443\\\\Homework\\\\Hw1\\\\Hw1Desc.png'\n",
    "\n",
    "# Display the image in the notebook\n",
    "Image(filename=image_path)\n"
   ]
  },
  {
   "cell_type": "markdown",
   "id": "c25c00fe-0f98-41a7-99ce-dacbfe2d112a",
   "metadata": {},
   "source": [
    "# Literature Search on Multiagent Systems Applications\r\n",
    "\r\n",
    "## Conducting a Literature Search:\r\n",
    "\r\n",
    "1. **Swarm Robotics**\r\n",
    "   - *Lopes, Y.K., Trenkwalder, S.M., Leal, A.B. et al., \"Supervisory control theory applied to swarm robotics,\" Swarm Intell, vol. 10, pp. 65–97, 2016. DOI: [https://doi.org/10.1007/s11721-016-0119-0](https://doi.org/10.1007/s11721-016-0119-0).*\r\n",
    "  \r\n",
    "2. **Smart Grids**\r\n",
    "   - *Stoustrup, J., Annaswamy, A., Chakrabortty, A., and Qu, Z., Eds., \"Smart Grid Control: Overview and Research Opportunities,\" Power Electronics and Power Systems series. Springer, Cham, 1st ed., 2019. DOI: [https://doi.org/10.1007/978-3-319-98310-3](https://doi.org/10.1007/978-3-319-98310-3).*\r\n",
    "\r\n",
    "## Cooperative Control Application Examples:\r\n",
    "\r\n",
    "1. **Swarm Robotics:**\r\n",
    "   - *Example:* In swarm robotics, multiple robots (agents) collaborate to perform tasks such as exploration, search and rescue, or environmental monitoring.\r\n",
    "   - *Cooperative Control:* The agents in a swarm exhibit cooperative control to achieve tasks collectively. They may coordinate their movements and actions based on local interactions and shared objectives.\r\n",
    "\r\n",
    "2. **Smart Grids:**\r\n",
    "   - *Example:* Multiagent systems are applied in smart grids to manage and control the distribution of electrical energy efficiently.\r\n",
    "   - *Cooperative Control:* Agents (smart devices, power generators, etc.) cooperate to optimize energy distribution, balance supply and demand, and enhance the overall stabile suggested methods.\r\n",
    "re search using the suggested methods.\r\n",
    " The agents in a swarm\r\n"
   ]
  },
  {
   "cell_type": "code",
   "execution_count": 21,
   "id": "4f5deed6-11a0-49c2-9793-24f218415919",
   "metadata": {},
   "outputs": [
    {
     "data": {
      "image/png": "[encoded data removed]",
      "text/plain": [
       "<Figure size 800x500 with 1 Axes>"
      ]
     },
     "metadata": {},
     "output_type": "display_data"
    }
   ],
   "source": [
    "import numpy as np\n",
    "import matplotlib.pyplot as plt\n",
    "import random\n",
    "\n",
    "def ViscekModel(k,x_init=None,y_init=None,o_init=None, velocity=None, radius=None):\n",
    "    theta = np.zeros(k)\n",
    "    n = np.zeros(k)\n",
    "\n",
    "    #if array is given use it otherwise we will use randomly generated values\n",
    "    if x_init is None:\n",
    "        x_init = [random.randint(0, 10) for _ in range(k)]\n",
    "    if y_init is None:\n",
    "        y_init = [random.randint(0, 10) for _ in range(k)]\n",
    "    if o_init is None:\n",
    "        o_init = np.pi\n",
    "    if velocity is None:\n",
    "        velocity =3\n",
    "    if radius is None:\n",
    "        radius = 1\n",
    "        \n",
    "    theta[0] = o_init\n",
    "    \n",
    "    for i in range(k - 1):\n",
    "        n[i] = sum((np.sqrt((x_init[j] - x_init[i])**2 + (y_init[j] - y_init[i])**2) < radius) for j in range(k))\n",
    "\n",
    "        # Theta Calculation\n",
    "        theta[i+1] = (1 / (1 + n[i])) * theta[i] + (np.sum(n) * theta[i])\n",
    "\n",
    "        # Position Calculation\n",
    "        x_init[i+1] = x_init[i] + velocity * np.cos(theta[i])\n",
    "        y_init[i+1] = y_init[i] + velocity * np.sin(theta[i])\n",
    "\n",
    "    return x_init, y_init\n",
    "\n",
    "k = 20\n",
    "x, y = ViscekModel(k)\n",
    "\n",
    "# Plot the results\n",
    "plt.figure(figsize=(8, 5))\n",
    "plt.subplot(2, 1, 2)\n",
    "plt.plot(x, y, marker='o')\n",
    "plt.title('Particle positions over time')\n",
    "plt.xlabel('X-axis')\n",
    "plt.ylabel('Y-axis')\n",
    "\n",
    "\n",
    "plt.show()"
   ]
  },
  {
   "cell_type": "markdown",
   "id": "a8a81283-dee4-4199-a9b4-814875a9b54b",
   "metadata": {},
   "source": [
    "# findings on particle positioning using viscek model  \n",
    "Using this simulation you can see that the particle positioning of this model is determined by the radius of the nearest neighbor and is heavily dependent on the theta parameter.\n",
    "\n"
   ]
  },
  {
   "cell_type": "code",
   "execution_count": null,
   "id": "1697b457-88b0-48e7-99c8-4e99b5bbb9d8",
   "metadata": {},
   "outputs": [],
   "source": []
  },
  {
   "cell_type": "code",
   "execution_count": null,
   "id": "4d6ebbfa-689c-4498-a372-75512f7d920e",
   "metadata": {},
   "outputs": [],
   "source": []
  }
 ],
 "metadata": {
  "kernelspec": {
   "display_name": "Python 3 (ipykernel)",
   "language": "python",
   "name": "python3"
  },
  "language_info": {
   "codemirror_mode": {
    "name": "ipython",
    "version": 3
   },
   "file_extension": ".py",
   "mimetype": "text/x-python",
   "name": "python",
   "nbconvert_exporter": "python",
   "pygments_lexer": "ipython3",
   "version": "3.12.0"
  }
 },
 "nbformat": 4,
 "nbformat_minor": 5
}
